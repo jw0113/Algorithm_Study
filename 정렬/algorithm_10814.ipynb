{
 "cells": [
  {
   "cell_type": "code",
   "execution_count": 11,
   "metadata": {},
   "outputs": [
    {
     "name": "stdout",
     "output_type": "stream",
     "text": [
      "3\n",
      "21 Junkyu\n",
      "21 Dohyun\n",
      "20 Sunyoung\n",
      "20 Sunyoung\n",
      "21 Junkyu\n",
      "21 Dohyun\n"
     ]
    }
   ],
   "source": [
    "num = int(input())\n",
    "aList = []\n",
    "for i in range(num):\n",
    "    a = list(input().split())\n",
    "    aList.append(a)\n",
    "\n",
    "while True:\n",
    "    for i in range(num):\n",
    "        if 1 > int(aList[i][0]) > 200 : break\n",
    "        if len(aList[i][1]) > 100: break\n",
    "            \n",
    "    aList.sort(key=lambda x: (int(x[0]),x.index(x[0])))\n",
    "    break\n",
    "    \n",
    "for i in aList:\n",
    "    print(i[0],i[1])"
   ]
  }
 ],
 "metadata": {
  "kernelspec": {
   "display_name": "Python 3",
   "language": "python",
   "name": "python3"
  },
  "language_info": {
   "codemirror_mode": {
    "name": "ipython",
    "version": 3
   },
   "file_extension": ".py",
   "mimetype": "text/x-python",
   "name": "python",
   "nbconvert_exporter": "python",
   "pygments_lexer": "ipython3",
   "version": "3.7.4"
  }
 },
 "nbformat": 4,
 "nbformat_minor": 2
}
